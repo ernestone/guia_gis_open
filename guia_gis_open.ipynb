{
 "cells": [
  {
   "cell_type": "markdown",
   "metadata": {},
   "source": [
    "# Guía tecnologías GIS open"
   ]
  },
  {
   "cell_type": "markdown",
   "metadata": {},
   "source": [
    "## Python\n",
    "Lenguaje interpretado multipropósito y multiplataforma en el que se intentan seguir los siguientes principios, el también llamado *Zen de Python*, que busca un fácil aprendizaje y hacerlo los más amigable posible."
   ]
  },
  {
   "cell_type": "markdown",
   "metadata": {},
   "source": [
    "```\n",
    "The Zen of Python, by Tim Peters\n",
    "\n",
    "Beautiful is better than ugly.\n",
    "Explicit is better than implicit.\n",
    "Simple is better than complex.\n",
    "Complex is better than complicated.\n",
    "Flat is better than nested.\n",
    "Sparse is better than dense.\n",
    "Readability counts.\n",
    "Special cases aren't special enough to break the rules.\n",
    "Although practicality beats purity.\n",
    "Errors should never pass silently.\n",
    "Unless explicitly silenced.\n",
    "In the face of ambiguity, refuse the temptation to guess.\n",
    "There should be one-- and preferably only one --obvious way to do it.\n",
    "Although that way may not be obvious at first unless you're Dutch.\n",
    "Now is better than never.\n",
    "Although never is often better than *right* now.\n",
    "If the implementation is hard to explain, it's a bad idea.\n",
    "If the implementation is easy to explain, it may be a good idea.\n",
    "Namespaces are one honking great idea -- let's do more of those!\n",
    "```\n",
    "Para introducirse en él hay muchísimos recursos de calidad pero si el inglés no es problema recomiendo seguir la documentación oficial, como por ejemplo esta [guía inicial](https://www.python.org/about/gettingstarted/).\n",
    "\n",
    "Como lenguaje interpretado que es siempre habrá que lanzar el interprete previamente y pasar como argumento el fichero *.py* que se quiera ejecutar. Si no se pasa ningún fichero entonces se arrancará sesión interactiva en la que podremos probar cualquier sentencia.\n",
    "\n",
    "```bash\n",
    "python hello_world.py\n",
    "```\n",
    "\n",
    "Para añadir funcionalidad se usan librerías o paquetes que se gestionan a través de [PyPi](https://pypi.org/):\n",
    "\n",
    "```bash\n",
    "pip install geopandas\n",
    "```\n",
    "\n",
    "El intérprete guardará los paquetes instalados en paths relativos al directorio de instalación donde reside. A partir de esos paths más el directorio de trabajo donde se encuentra el intérprete se creará el espacio de nombres que es desde donde se podrán importar paquetes y módulos.\n",
    "```python\n",
    "import lector_csv\n",
    "lector_csv.leer_csv('usuarios.csv')\n",
    "```\n",
    "\n",
    "Directamente con `Python` se pueden crear entornos aislados en una misma máquina donde ciertos requerimientos se cumplen. [Virtualenv](https://virtualenv.pypa.io/en/stable/) es hasta ahora el paquete que más se utilizaba para ello. Ahora parece que [Pipenv](https://docs.pipenv.org/) está tomando el relevo por ser más completo y ofrecer más funcionalidad."
   ]
  },
  {
   "cell_type": "markdown",
   "metadata": {},
   "source": [
    "## Conda\n",
    "Gestor de paquetes y entornos para poder tener distintos intérpretes `Python` con distintas configuraciones en una misma máquina. En esta [guía inicial](https://conda.io/docs/user-guide/getting-started.html) se explica cómo realizar la instalación y gestionar entornos a través de la herramienta.\n",
    "\n",
    "Lo interesante de utilizar `conda` para gestionar el interprete de `python` es que ya viene con una serie de paquetes instalados como *`jupyter`* y *`pandas`*, además de poder instalar librerías de otros lenguajes, no sólo de `python` (*`oracle_instant_client`, `nodejs`*).\n",
    "\n",
    "Así se instalarán paquetes en el entorno activo:\n",
    "```bash\n",
    "conda install -c conda-forge geopandas\n",
    "```"
   ]
  },
  {
   "cell_type": "markdown",
   "metadata": {},
   "source": [
    "## Jupyter\n",
    "Tecnología que permite crear *notebooks*, documentos interactivos que se pueden mostrar en el navegador web y que permiten combinar scripts de código con distintas visualizaciones como [MarkDown](https://guides.github.com/features/mastering-markdown/), widgets de javascript interactivos, imágenes, vídeos, ...\n",
    "En la [documentación](http://jupyter-notebook.readthedocs.io/en/latest/index.html) se puede encontrar [esta explicación](http://jupyter-notebook.readthedocs.io/en/latest/examples/Notebook/What%20is%20the%20Jupyter%20Notebook.html#) más concisa de lo que es un `jupyter notebook`."
   ]
  },
  {
   "cell_type": "markdown",
   "metadata": {},
   "source": [
    "<img src=\"http://jupyter-notebook.readthedocs.io/en/latest/_images/new-notebook.gif\">"
   ]
  },
  {
   "cell_type": "markdown",
   "metadata": {},
   "source": [
    "`Jupyter` es la evolución de [Ipython](http://ipython.readthedocs.io/) que se podría definir como una consola interactiva de `python`. De hecho desde los `notebook` se puede acceder a una serie de comandos de `IPython` que se pueden conocer ejecutando `%quickref`"
   ]
  },
  {
   "cell_type": "markdown",
   "metadata": {},
   "source": [
    "## JupyterLab\n",
    "Hace unos meses `Jupyter` evolucionó hacia `JupyterLab` que vendría a ser lo mismo pero con unas serie de mejoras en la interfaz y en las tecnologías web utilizadas que lo hacen más potente y versátil. En su [documentación](https://jupyterlab.readthedocs.io/en/stable/index.html) se pueden ver los cambios respecto `Jupyter notebooks`"
   ]
  },
  {
   "cell_type": "markdown",
   "metadata": {},
   "source": [
    "<img src=\"https://jupyterlab.readthedocs.io/en/stable/_images/interface_jupyterlab1.png\">"
   ]
  },
  {
   "cell_type": "markdown",
   "metadata": {},
   "source": [
    "## Análisis de datos\n",
    "- [pandas](http://pandas-docs.github.io/pandas-docs-travis/tutorials.html): Sería como la navaja suiza para tratar datos de todo tipo, tanto ficheros planos como pueden ser `csv`, `json`, `excel`,... como datos de distintas `BBDD` tanto `sql` como `nosql` ([IOTools](http://pandas-docs.github.io/pandas-docs-travis/io.html)). Al intentar trabajar en memoria con los datos cargados en `Dataframes`, es muy rápido y versátil haciendo operaciones que de otro modo serían mucho más lentas y tediosas de realizar.\n",
    "- [geopandas](http://geopandas.readthedocs.io/en/latest/index.html#): Librería que añade a `pandas` características espaciales apoyándose en otras librerías como [`shapely`](http://toblerity.org/shapely/), que permite operar con las geometrías, y [`fiona`](http://toblerity.org/fiona/) para leer y escribir en distintos formatos de ficheros espaciales como `geojson`, `shp` o bases de datos como [`Postgis`](https://postgis.net/)"
   ]
  },
  {
   "cell_type": "markdown",
   "metadata": {},
   "source": [
    "## Visualización datos\n",
    "- [Folium](https://github.com/python-visualization/folium): Librería que permite crear cliente `Leaflet`([docs](https://leafletjs.com/)) desde `python` y que permitirá añadirlo a un `jupyter notebook`. En este [notebook](notebooks/folium.ipynb) podemos ver algunas de sus capacidades.\n",
    "- [Ipyleaflet](https://github.com/jupyter-widgets/ipyleaflet): Librería que permite lo mismo que `Folium` y que quizás está mejor integrada con `JupyterLab`\n",
    "- [PyViz](http://pyviz.org/index.html): Conjunto de librerías que buscan facilitar la visualización de datos a través de gráficos y mapas interactivos. En este [link](http://pyviz.org/tutorial/07_Geographic_Data.html) podemos ver sus capacidades básicas con mapas y datos espaciales. \n",
    "- [Altair](https://altair-viz.github.io/): Otra librería para crear dashboards interactivos que a través de `python` hace uso de la librería de `javascript` [Vega](https://vega.github.io/vega/).\n",
    "- [Plotly](https://github.com/plotly/plotly.py): Librería open pero que permite conectar a servicios freemium en la nube (pago por uso) que utiliza la librería de `javascript` [plotly.js](https://github.com/plotly/plotly.js) que a su vez está montada sobre [d3.js](https://d3js.org/) y [stack.gl](http://stack.gl/).\n"
   ]
  },
  {
   "cell_type": "markdown",
   "metadata": {},
   "source": [
    "## Clientes web\n",
    "- [Leaflet](https://leafletjs.com/): Cliente `javascript` de mapas que trabaja con distintos formatos y en distintas plataformas web y mobile. Además de soportar los ya clásicos formatos `wms` y `wfs`, está muy enfocado a usar los formatos vectoriales `geojson` y `topojson` así como el nuevo formato más optimizado y ligero `vector tiles` ([aquí](https://mappinggis.com/2017/12/como-utilizar-vector-tiles-en-leaflet/) explicación de dicho formato) estructurado en teselas al igual que los formatos `raster`. \n",
    "- [Mapbox](https://www.mapbox.com/mapbox.js/api/v3.1.1/): plugin `javascript` que se ha montado sobre `leaflet` con la particularidad de tener una `api` que facilita el acceso a los servicios en la nube que ofrece `Mapbox`. En [esta respuesta](https://stackoverflow.com/questions/12262163/what-are-leaflet-and-mapbox-and-what-are-their-differences/23663848#23663848) de `Stackoverflow` se aclaran sus diferencias y similitudes.\n",
    "- [OpenLayers](http://openlayers.org/): Otro cliente maduro que ha ido incorporando capacidad para mostrar los nuevos formatos vectoriales que se están estandarizando como `geojson`, `topojson` y `vector tiles`."
   ]
  },
  {
   "cell_type": "markdown",
   "metadata": {},
   "source": [
    "## Servidores\n",
    "- [Geoserver](http://docs.geoserver.org/): Servidor de distintos formatos espaciales en variedad de [webservices](http://docs.geoserver.org/latest/en/user/services/index.html#services) y tipos de datos. Su funcionalidad se puede ampliar a través de [extensiones](http://docs.geoserver.org/latest/en/user/extensions/index.html#extensions). Para estilizar las capas de datos servidas por defecto utiliza el standard de la [OGC](http://www.opengeospatial.org/), el [Styled Layer Descriptor o SLD](http://docs.geoserver.org/stable/en/user/styling/sld/reference/index.html#sld-reference), aunque se pueden utilizar [otros](http://docs.geoserver.org/latest/en/user/styling/index.html#styling) también a través de extensiones."
   ]
  },
  {
   "cell_type": "code",
   "execution_count": null,
   "metadata": {},
   "outputs": [],
   "source": []
  }
 ],
 "metadata": {
  "kernelspec": {
   "display_name": "Python 3",
   "language": "python",
   "name": "python3"
  },
  "language_info": {
   "codemirror_mode": {
    "name": "ipython",
    "version": 3
   },
   "file_extension": ".py",
   "mimetype": "text/x-python",
   "name": "python",
   "nbconvert_exporter": "python",
   "pygments_lexer": "ipython3",
   "version": "3.6.5"
  }
 },
 "nbformat": 4,
 "nbformat_minor": 2
}
